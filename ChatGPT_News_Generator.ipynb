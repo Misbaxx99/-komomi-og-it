{
  "nbformat": 4,
  "nbformat_minor": 0,
  "metadata": {
    "colab": {
      "provenance": [],
      "include_colab_link": true
    },
    "kernelspec": {
      "name": "python3",
      "display_name": "Python 3"
    },
    "language_info": {
      "name": "python"
    }
  },
  "cells": [
    {
      "cell_type": "markdown",
      "metadata": {
        "id": "view-in-github",
        "colab_type": "text"
      },
      "source": [
        "<a href=\"https://colab.research.google.com/github/Misbaxx99/-komomi-og-it/blob/main/ChatGPT_News_Generator.ipynb\" target=\"_parent\"><img src=\"https://colab.research.google.com/assets/colab-badge.svg\" alt=\"Open In Colab\"/></a>"
      ]
    },
    {
      "cell_type": "markdown",
      "source": [
        "###Install OpenAI components"
      ],
      "metadata": {
        "id": "R_M3C873eegq"
      }
    },
    {
      "cell_type": "code",
      "execution_count": null,
      "metadata": {
        "colab": {
          "base_uri": "https://localhost:8080/"
        },
        "id": "mW4Wx25zsIPC",
        "outputId": "8771b80b-aadb-4389-ad7e-ca1d05a755bf"
      },
      "outputs": [
        {
          "output_type": "stream",
          "name": "stdout",
          "text": [
            "Requirement already satisfied: openai in /usr/local/lib/python3.10/dist-packages (1.54.4)\n",
            "Requirement already satisfied: anyio<5,>=3.5.0 in /usr/local/lib/python3.10/dist-packages (from openai) (3.7.1)\n",
            "Requirement already satisfied: distro<2,>=1.7.0 in /usr/local/lib/python3.10/dist-packages (from openai) (1.9.0)\n",
            "Requirement already satisfied: httpx<1,>=0.23.0 in /usr/local/lib/python3.10/dist-packages (from openai) (0.27.2)\n",
            "Requirement already satisfied: jiter<1,>=0.4.0 in /usr/local/lib/python3.10/dist-packages (from openai) (0.7.1)\n",
            "Requirement already satisfied: pydantic<3,>=1.9.0 in /usr/local/lib/python3.10/dist-packages (from openai) (2.9.2)\n",
            "Requirement already satisfied: sniffio in /usr/local/lib/python3.10/dist-packages (from openai) (1.3.1)\n",
            "Requirement already satisfied: tqdm>4 in /usr/local/lib/python3.10/dist-packages (from openai) (4.66.6)\n",
            "Requirement already satisfied: typing-extensions<5,>=4.11 in /usr/local/lib/python3.10/dist-packages (from openai) (4.12.2)\n",
            "Requirement already satisfied: idna>=2.8 in /usr/local/lib/python3.10/dist-packages (from anyio<5,>=3.5.0->openai) (3.10)\n",
            "Requirement already satisfied: exceptiongroup in /usr/local/lib/python3.10/dist-packages (from anyio<5,>=3.5.0->openai) (1.2.2)\n",
            "Requirement already satisfied: certifi in /usr/local/lib/python3.10/dist-packages (from httpx<1,>=0.23.0->openai) (2024.8.30)\n",
            "Requirement already satisfied: httpcore==1.* in /usr/local/lib/python3.10/dist-packages (from httpx<1,>=0.23.0->openai) (1.0.7)\n",
            "Requirement already satisfied: h11<0.15,>=0.13 in /usr/local/lib/python3.10/dist-packages (from httpcore==1.*->httpx<1,>=0.23.0->openai) (0.14.0)\n",
            "Requirement already satisfied: annotated-types>=0.6.0 in /usr/local/lib/python3.10/dist-packages (from pydantic<3,>=1.9.0->openai) (0.7.0)\n",
            "Requirement already satisfied: pydantic-core==2.23.4 in /usr/local/lib/python3.10/dist-packages (from pydantic<3,>=1.9.0->openai) (2.23.4)\n"
          ]
        }
      ],
      "source": [
        "pip install openai"
      ]
    },
    {
      "cell_type": "markdown",
      "source": [
        "#News generator"
      ],
      "metadata": {
        "id": "wRaQ4yNKXyFA"
      }
    },
    {
      "cell_type": "code",
      "source": [
        "pip install python-dotenv"
      ],
      "metadata": {
        "colab": {
          "base_uri": "https://localhost:8080/"
        },
        "id": "zoG7LD58sV6F",
        "outputId": "18e60455-6d08-413e-9074-b52516ecc507"
      },
      "execution_count": null,
      "outputs": [
        {
          "output_type": "stream",
          "name": "stdout",
          "text": [
            "Requirement already satisfied: python-dotenv in /usr/local/lib/python3.10/dist-packages (1.0.1)\n"
          ]
        }
      ]
    },
    {
      "cell_type": "markdown",
      "source": [
        "###Import various software libraries"
      ],
      "metadata": {
        "id": "U-TA7nk-20Tf"
      }
    },
    {
      "cell_type": "code",
      "source": [
        "import time\n",
        "import pprint\n",
        "from google.colab import output"
      ],
      "metadata": {
        "id": "0sRrjYUg29Mw"
      },
      "execution_count": null,
      "outputs": []
    },
    {
      "cell_type": "markdown",
      "source": [
        "###Mount Google Drive"
      ],
      "metadata": {
        "id": "nuqf1lJ3gHVD"
      }
    },
    {
      "cell_type": "code",
      "source": [
        "from google.colab import drive\n",
        "drive.mount('/content/drive')"
      ],
      "metadata": {
        "colab": {
          "base_uri": "https://localhost:8080/"
        },
        "id": "umDyiesRsj8U",
        "outputId": "2e745468-7135-4d16-d098-5f323cc85263"
      },
      "execution_count": null,
      "outputs": [
        {
          "output_type": "stream",
          "name": "stdout",
          "text": [
            "Drive already mounted at /content/drive; to attempt to forcibly remount, call drive.mount(\"/content/drive\", force_remount=True).\n"
          ]
        }
      ]
    },
    {
      "cell_type": "code",
      "source": [
        "from dotenv import load_dotenv"
      ],
      "metadata": {
        "id": "Np47jgufsvjC"
      },
      "execution_count": null,
      "outputs": []
    },
    {
      "cell_type": "markdown",
      "source": [
        "###Load .env file"
      ],
      "metadata": {
        "id": "mFHzjazGgvq2"
      }
    },
    {
      "cell_type": "code",
      "source": [
        "load_dotenv('drive/My Drive/Colab Notebooks/.env')"
      ],
      "metadata": {
        "colab": {
          "base_uri": "https://localhost:8080/"
        },
        "id": "0fFuJL4Vs7Kx",
        "outputId": "2dabcf3b-7ef7-40a3-a66e-1deaf9f29630"
      },
      "execution_count": null,
      "outputs": [
        {
          "output_type": "execute_result",
          "data": {
            "text/plain": [
              "True"
            ]
          },
          "metadata": {},
          "execution_count": 70
        }
      ]
    },
    {
      "cell_type": "markdown",
      "source": [
        "###Initialize Open AI client"
      ],
      "metadata": {
        "id": "nnOzY4EkhAQG"
      }
    },
    {
      "cell_type": "code",
      "source": [
        "from openai import OpenAI as openai"
      ],
      "metadata": {
        "id": "2gSFihVstLPH"
      },
      "execution_count": null,
      "outputs": []
    },
    {
      "cell_type": "code",
      "source": [
        "import os\n",
        "openai.api_key = os.getenv(\"OPENAI_API_KEY\")\n",
        "openai.api_key"
      ],
      "metadata": {
        "id": "EiQPc5lgtUMo"
      },
      "execution_count": null,
      "outputs": []
    },
    {
      "cell_type": "code",
      "source": [
        "client = openai()\n"
      ],
      "metadata": {
        "id": "ieGjr5HqtfWv"
      },
      "execution_count": null,
      "outputs": []
    },
    {
      "cell_type": "markdown",
      "source": [
        "###Initialize news variables"
      ],
      "metadata": {
        "id": "zP1RaXKt3OFb"
      }
    },
    {
      "cell_type": "code",
      "source": [
        "news1=\"Some news 1\"\n",
        "news2=\"Some news 2\"\n",
        "news3=\"Some news 3\"\n",
        "news4=\"Some news 4\""
      ],
      "metadata": {
        "id": "2i5W8l4Ft4zD"
      },
      "execution_count": null,
      "outputs": []
    },
    {
      "cell_type": "markdown",
      "source": [
        "###Base prompt"
      ],
      "metadata": {
        "id": "RtWDzJ1r7lmx"
      }
    },
    {
      "cell_type": "code",
      "source": [
        "prompt_role = '''You are an assistant for journalists.\n",
        "Your task is to write articles, based on the FACTS that are given to you.\n",
        "You should respect the instructions: the TONE, the LENGTH, and the STYLE'''"
      ],
      "metadata": {
        "id": "FHiJJURH7vCq"
      },
      "execution_count": null,
      "outputs": []
    },
    {
      "cell_type": "markdown",
      "source": [
        "###ChapGPT routines for generating news"
      ],
      "metadata": {
        "id": "0eq2R_S176En"
      }
    },
    {
      "cell_type": "code",
      "source": [
        "def ask_chatgpt(messages):\n",
        "    response = client.chat.completions.create(model=\"gpt-3.5-turbo\",\n",
        "                                              messages=messages)\n",
        "    return (response.choices[0].message.content)\n"
      ],
      "metadata": {
        "id": "Ac_UloC1xsUE"
      },
      "execution_count": null,
      "outputs": []
    },
    {
      "cell_type": "code",
      "source": [
        "def assist_journalist(\n",
        "        facts ,\n",
        "        tone: str, length_words: int, style: str):\n",
        "    facts = \", \".join(facts)\n",
        "    prompt = f'{prompt_role}\\nFACTS: {facts}\\nTONE: {tone}\\nLENGTH: {length_words} words\\nSTYLE: {style}'\n",
        "    print(\"Prompt:\")\n",
        "    pprint.pprint(prompt)\n",
        "    return ask_chatgpt([{\"role\": \"user\", \"content\": prompt}])"
      ],
      "metadata": {
        "id": "gHd22QUiyPZz"
      },
      "execution_count": null,
      "outputs": []
    },
    {
      "cell_type": "markdown",
      "source": [
        "###Generate news no. 1"
      ],
      "metadata": {
        "id": "MUvc8UXBwGSe"
      }
    },
    {
      "cell_type": "code",
      "source": [
        "facts1 = ['Donald Trump elected for president', 'Putin is confused']\n",
        "tone1 = 'formal'\n",
        "length_words1 = 100\n",
        "style1 = 'blogpost'"
      ],
      "metadata": {
        "id": "gVj4VS2VoW4H"
      },
      "execution_count": null,
      "outputs": []
    },
    {
      "cell_type": "code",
      "source": [
        "news1= assist_journalist(facts1, tone1, length_words1, style1)\n",
        "print()\n",
        "print(\"Response:\")\n",
        "news1"
      ],
      "metadata": {
        "id": "VLdnrznQkIxi"
      },
      "execution_count": null,
      "outputs": []
    },
    {
      "cell_type": "markdown",
      "source": [
        "###Generate news no. 2"
      ],
      "metadata": {
        "id": "4pziSlNXwiHe"
      }
    },
    {
      "cell_type": "code",
      "source": [
        "facts2 = ['fact 1', 'fact 2']\n",
        "tone2 = 'formal'\n",
        "length_words2 = 100\n",
        "style2 = 'blogpost'"
      ],
      "metadata": {
        "id": "x5FlrlLltggw"
      },
      "execution_count": null,
      "outputs": []
    },
    {
      "cell_type": "code",
      "source": [
        "news2= assist_journalist(facts2, tone2, length_words2, style2)\n",
        "print()\n",
        "print(\"Response:\")\n",
        "news2"
      ],
      "metadata": {
        "id": "jpF2IVHOwHtl"
      },
      "execution_count": null,
      "outputs": []
    },
    {
      "cell_type": "markdown",
      "source": [
        "###Generate news no. 3"
      ],
      "metadata": {
        "id": "VoDBw9EGwzWc"
      }
    },
    {
      "cell_type": "code",
      "source": [
        "facts3 = ['fact 1', 'fact 2', 'fact 3']\n",
        "tone3 = 'formal'\n",
        "length_words3 = 100\n",
        "style3 = 'blogpost'"
      ],
      "metadata": {
        "id": "DjQCXzebw3Kh"
      },
      "execution_count": null,
      "outputs": []
    },
    {
      "cell_type": "code",
      "source": [
        "news3= assist_journalist(facts3, tone3, length_words3, style3)\n",
        "print()\n",
        "print(\"Response:\")\n",
        "news3"
      ],
      "metadata": {
        "id": "XVAEMTU1xdFn"
      },
      "execution_count": null,
      "outputs": []
    },
    {
      "cell_type": "markdown",
      "source": [
        "###Generate news no. 4"
      ],
      "metadata": {
        "id": "bJGO4l9Zx4fA"
      }
    },
    {
      "cell_type": "code",
      "source": [
        "facts4 = ['fact 1', 'fact 2', 'fact 3']\n",
        "tone4 = 'formal'\n",
        "length_words4 = 100\n",
        "style4 = 'blogpost'"
      ],
      "metadata": {
        "id": "HmErFl8fx8OM"
      },
      "execution_count": null,
      "outputs": []
    },
    {
      "cell_type": "code",
      "source": [
        "news4= assist_journalist(facts4, tone4, length_words4, style4)\n",
        "print()\n",
        "print(\"Response:\")\n",
        "news4"
      ],
      "metadata": {
        "id": "ZJtYRxuQyJHJ"
      },
      "execution_count": null,
      "outputs": []
    },
    {
      "cell_type": "markdown",
      "source": [
        "###The news display"
      ],
      "metadata": {
        "id": "BD7R-fC-usl3"
      }
    },
    {
      "cell_type": "code",
      "source": [
        "for count in range(5):\n",
        "    output.clear()\n",
        "    pprint.pprint(news1)\n",
        "    time.sleep(5)\n",
        "    output.clear()\n",
        "    pprint.pprint(news2)\n",
        "    time.sleep(5)\n",
        "    output.clear()\n",
        "    pprint.pprint(news3)\n",
        "    time.sleep(5)\n",
        "    output.clear()\n",
        "    pprint.pprint(news4)\n",
        "    time.sleep(5)"
      ],
      "metadata": {
        "id": "4_fEyArPjWTi"
      },
      "execution_count": null,
      "outputs": []
    },
    {
      "cell_type": "markdown",
      "source": [
        "#Exercises"
      ],
      "metadata": {
        "id": "5OxJTp9I9Cqc"
      }
    },
    {
      "cell_type": "markdown",
      "source": [
        "\n",
        "\n",
        "1.   Provide 'facts' for news items 2, 3 and 4 so the chat reponses makes sense. Vary on style and tone as appropriate\n",
        "2.   State your observations what 'facts' that makes no-nonsense 'news'\n",
        "3.   Briefly describe the business processes that properly could support news generation as performed above. Also consider technical issues.\n",
        "\n",
        "\n",
        "\n",
        "\n"
      ],
      "metadata": {
        "id": "lAont_HU9GiN"
      }
    },
    {
      "cell_type": "code",
      "source": [
        "# prompt: Provide 'facts' for news items 2, 3 and 4 so the chat reponses makes sense. Vary on style and tone as appropriate\n",
        "\n",
        "import time\n",
        "import pprint\n",
        "from google.colab import output\n",
        "from google.colab import drive\n",
        "from dotenv import load_dotenv\n",
        "from openai import OpenAI as openai\n",
        "import os\n",
        "# ###Install OpenAI components\n",
        "#pip install openai\n",
        "# #News generator\n",
        "#pip install python-dotenv\n",
        "# ###Import various software libraries\n",
        "# ###Mount Google Drive\n",
        "drive.mount('/content/drive')\n",
        "# ###Load .env file\n",
        "load_dotenv('drive/My Drive/Colab Notebooks/.env')\n",
        "# ###Initialize Open AI client\n",
        "openai.api_key = os.getenv(\"OPENAI_API_KEY\")\n",
        "openai.api_key\n",
        "client = openai()\n",
        "\n",
        "# ###Initialize news variables\n",
        "news1=\"Some news 1\"\n",
        "news2=\"Some news 2\"\n",
        "news3=\"Some news 3\"\n",
        "news4=\"Some news 4\"\n",
        "# ###Base prompt\n",
        "prompt_role = '''You are an assistant for journalists.\n",
        "Your task is to write articles, based on the FACTS that are given to you.\n",
        "You should respect the instructions: the TONE, the LENGTH, and the STYLE'''\n",
        "# ###ChapGPT routines for generating news\n",
        "def ask_chatgpt(messages):\n",
        "    response = client.chat.completions.create(model=\"gpt-3.5-turbo\",\n",
        "                                              messages=messages)\n",
        "    return (response.choices[0].message.content)\n",
        "\n",
        "def assist_journalist(\n",
        "        facts ,\n",
        "        tone: str, length_words: int, style: str):\n",
        "    facts = \", \".join(facts)\n",
        "    prompt = f'{prompt_role}\\nFACTS: {facts}\\nTONE: {tone}\\nLENGTH: {length_words} words\\nSTYLE: {style}'\n",
        "    print(\"Prompt:\")\n",
        "    pprint.pprint(prompt)\n",
        "    return ask_chatgpt([{\"role\": \"user\", \"content\": prompt}])\n",
        "# ###Generate news no. 1\n",
        "facts1 = ['Donald Trump elected for president', 'Putin is confused']\n",
        "tone1 = 'formal'\n",
        "length_words1 = 100\n",
        "style1 = 'blogpost'\n",
        "news1= assist_journalist(facts1, tone1, length_words1, style1)\n",
        "print()\n",
        "print(\"Response:\")\n",
        "news1\n",
        "# ###Generate news no. 2\n",
        "facts2 = ['A new study reveals a link between coffee consumption and longevity.', 'Participants who drank moderate amounts of coffee daily showed a reduced risk of heart disease.']\n",
        "tone2 = 'informative'\n",
        "length_words2 = 150\n",
        "style2 = 'news report'\n",
        "news2= assist_journalist(facts2, tone2, length_words2, style2)\n",
        "print()\n",
        "print(\"Response:\")\n",
        "news2\n",
        "# ###Generate news no. 3\n",
        "facts3 = ['Local bakery wins national award for its sourdough bread.', 'The judges praised the bread for its complex flavor and perfect crust.', 'The bakery owner expressed gratitude and excitement.']\n",
        "tone3 = 'positive and celebratory'\n",
        "length_words3 = 80\n",
        "style3 = 'short news blurb'\n",
        "news3= assist_journalist(facts3, tone3, length_words3, style3)\n",
        "print()\n",
        "print(\"Response:\")\n",
        "news3\n",
        "# ###Generate news no. 4\n",
        "facts4 = ['Heavy rainfall causes flooding in the city.', 'Several roads are closed due to high water levels.', 'Emergency services are assisting residents.']\n",
        "tone4 = 'urgent and informative'\n",
        "length_words4 = 120\n",
        "style4 = 'emergency alert'\n",
        "news4= assist_journalist(facts4, tone4, length_words4, style4)\n",
        "print()\n",
        "print(\"Response:\")\n",
        "news4\n",
        "# ###The news display\n",
        "for count in range(5):\n",
        "    output.clear()\n",
        "    pprint.pprint(news1)\n",
        "    time.sleep(5)\n",
        "    output.clear()\n",
        "    pprint.pprint(news2)\n",
        "    time.sleep(5)\n",
        "    output.clear()\n",
        "    pprint.pprint(news3)\n",
        "    time.sleep(5)\n",
        "    output.clear()\n",
        "    pprint.pprint(news4)\n",
        "    time.sleep(5)"
      ],
      "metadata": {
        "id": "JoyNc3rR9hjx"
      },
      "execution_count": null,
      "outputs": []
    },
    {
      "cell_type": "code",
      "source": [
        "# prompt: State your observations what 'facts' that makes no-nonsense 'news'\n",
        "\n",
        "To generate no-nonsense news, the facts provided must be:\n",
        "\n",
        "1. **Verifiable:**  Facts should be based on reliable sources and evidence.  They must be objectively true or demonstrably provable.  Avoid speculation or rumors.\n",
        "\n",
        "2. **Specific and Detailed:** Vague facts lead to vague news.  Specific details (names, dates, locations, numbers) add credibility and context.  \"A study showed...\" is less convincing than \"A study published in the *Journal of the American Medical Association* on October 26, 2024 showed...\"\n",
        "\n",
        "3. **Relevant and Important:** The facts should relate directly to the news topic and be significant enough to warrant reporting. Trivial details should be omitted.\n",
        "\n",
        "4. **Unbiased:** Facts should be presented neutrally, avoiding subjective opinions or emotionally charged language.  While the *tone* of the article can be varied, the underlying facts themselves must remain unbiased.\n",
        "\n",
        "5. **Complete (within the scope of the news item):** The facts should provide enough information to fully understand the event or issue being reported.  If critical information is missing, the news may be misleading.\n",
        "\n",
        "Essentially, strong facts form the foundation of credible journalism. They provide a solid base for the narrative, ensuring that the news report is accurate, informative, and trustworthy.  The quality of the \"news\" is entirely dependent on the quality of the factual input.\n"
      ],
      "metadata": {
        "id": "uudBdA-L9mvG"
      },
      "execution_count": null,
      "outputs": []
    },
    {
      "cell_type": "code",
      "source": [
        "# prompt: Briefly describe the business processes that properly could support news generation as performed above. Also consider technical issues\n",
        "\n",
        "# Business Processes for News Generation\n",
        "\n",
        "# 1. Fact Verification and Sourcing:\n",
        "#    - Establish a robust fact-checking process.\n",
        "#    - Integrate reliable data sources (e.g., news agencies, academic databases, official government sources).\n",
        "#    - Implement a system for verifying information from various sources.  Consider cross-referencing and triangulation of data to increase accuracy.\n",
        "\n",
        "# 2. Content Creation Workflow:\n",
        "#    - Define clear roles for journalists, editors, and fact-checkers.\n",
        "#    - Create templates or guidelines for news articles, specifying desired tone, style, and length.  This helps maintain consistency across outputs.\n",
        "#    - Incorporate version control for news articles, tracking revisions and ensuring accuracy.\n",
        "\n",
        "# 3. News Topic Selection and Prioritization:\n",
        "#    - Implement a system for identifying trending news topics and potential news stories.\n",
        "#    - Assign priorities to topics based on relevance and public interest.  Utilize algorithms or machine learning for automated identification of trending subjects.\n",
        "\n",
        "# 4. News Generation Process:\n",
        "#    - Utilize AI tools (like the one demonstrated in the provided code) for generating initial drafts of articles.\n",
        "#    - Integrate a human-in-the-loop system for review, editing, and fact-checking.  AI assists in drafting, but humans ensure accuracy, context, and ethical reporting.\n",
        "\n",
        "# 5. News Distribution and Dissemination:\n",
        "#    - Establish a publishing platform or channels to share the generated news content (e.g., website, mobile app, social media).\n",
        "#    - Set up analytics to monitor performance, engagement, and feedback.\n",
        "\n",
        "# Technical Issues:\n",
        "\n",
        "# 1. Data Source Integration:\n",
        "#    - Secure and reliable access to external data sources is crucial. Implement API connections or data feeds to ensure real-time updates and avoid relying solely on local datasets.\n",
        "\n",
        "# 2. AI Model Selection and Fine-tuning:\n",
        "#    - Experiment with different language models to find the best fit for news generation.  Tune models for specific news styles, formats, and accuracy.\n",
        "\n",
        "# 3. Fact Verification Technology:\n",
        "#    - Integrate automated fact-checking tools and technologies to quickly and efficiently validate information, flagging potential inaccuracies or contradictions.\n",
        "\n",
        "# 4. Scalability and Performance:\n",
        "#    - Optimize the news generation pipeline to handle large volumes of data and requests efficiently.  Use cloud-based solutions (e.g. GCP, AWS) for scalability.\n",
        "\n",
        "# 5. Security:\n",
        "#    - Secure sensitive data (API keys, user information, etc.) using proper encryption, authentication, and access control mechanisms.\n",
        "\n",
        "# 6. Human Oversight and Editorial Control:\n",
        "#    - Ensure human oversight and editorial review of all AI-generated content.  Establish quality control checks to guarantee accuracy and adherence to journalistic ethics.  Avoid publication of biased or misleading information.\n",
        "\n",
        "# 7. Bias Mitigation:\n",
        "#    - Develop strategies to minimize potential bias in AI-generated content.  Regularly assess the model’s output for bias and implement retraining as necessary.\n",
        "\n",
        "# 8. Ethical Considerations:\n",
        "#    - Establish clear guidelines regarding responsible AI usage in journalism, especially about transparency in reporting AI assistance.\n",
        "\n",
        "\n"
      ],
      "metadata": {
        "id": "gM68AfRO9rPI"
      },
      "execution_count": null,
      "outputs": []
    }
  ]
}