{
  "cells": [
    {
      "cell_type": "markdown",
      "metadata": {
        "id": "view-in-github",
        "colab_type": "text"
      },
      "source": [
        "<a href=\"https://colab.research.google.com/github/Misbaxx99/-komomi-og-it/blob/main/Classfication_MNIST_Exercise_GENAI.ipynb\" target=\"_parent\"><img src=\"https://colab.research.google.com/assets/colab-badge.svg\" alt=\"Open In Colab\"/></a>"
      ]
    },
    {
      "cell_type": "markdown",
      "metadata": {
        "id": "gtDwB_seelp6"
      },
      "source": [
        "**Chapter 3 – Classification - Based on this chapter**"
      ]
    },
    {
      "cell_type": "markdown",
      "metadata": {
        "id": "lZBXdX4Velp-"
      },
      "source": [
        "_This notebook contains an excerpt of the sample code and solutions to the exercises in chapter 3._"
      ]
    },
    {
      "cell_type": "markdown",
      "metadata": {
        "id": "UhkHjBLRelqC"
      },
      "source": [
        "# Setup"
      ]
    },
    {
      "cell_type": "markdown",
      "metadata": {
        "id": "MxC6rtXzelqE"
      },
      "source": [
        "This project requires Python 3.7 or above:"
      ]
    },
    {
      "cell_type": "code",
      "execution_count": 52,
      "metadata": {
        "id": "3-9IkB66elqF"
      },
      "outputs": [],
      "source": [
        "import sys\n",
        "\n",
        "assert sys.version_info >= (3, 7)"
      ]
    },
    {
      "cell_type": "markdown",
      "metadata": {
        "id": "Gic3hyLTelqH"
      },
      "source": [
        "It also requires Scikit-Learn ≥ 1.0.1:"
      ]
    },
    {
      "cell_type": "code",
      "execution_count": 53,
      "metadata": {
        "id": "5gYkTvKQelqH"
      },
      "outputs": [],
      "source": [
        "from packaging import version\n",
        "import sklearn\n",
        "\n",
        "assert version.parse(sklearn.__version__) >= version.parse(\"1.0.1\")"
      ]
    },
    {
      "cell_type": "markdown",
      "metadata": {
        "id": "FW6SFqzJelqJ"
      },
      "source": [
        "Let's define the default font sizes to make the figures prettier:"
      ]
    },
    {
      "cell_type": "code",
      "execution_count": 54,
      "metadata": {
        "id": "-ZinNLu6elqK"
      },
      "outputs": [],
      "source": [
        "import matplotlib.pyplot as plt\n",
        "\n",
        "plt.rc('font', size=14)\n",
        "plt.rc('axes', labelsize=14, titlesize=14)\n",
        "plt.rc('legend', fontsize=14)\n",
        "plt.rc('xtick', labelsize=10)\n",
        "plt.rc('ytick', labelsize=10)"
      ]
    },
    {
      "cell_type": "markdown",
      "metadata": {
        "id": "Rae9rYqQelqM"
      },
      "source": [
        "# MNIST"
      ]
    },
    {
      "cell_type": "markdown",
      "source": [
        "Load the MNIST dataset"
      ],
      "metadata": {
        "id": "rZI2bENpPyh4"
      }
    },
    {
      "cell_type": "code",
      "execution_count": 55,
      "metadata": {
        "id": "mFLq9qFQelqN"
      },
      "outputs": [],
      "source": [
        "from sklearn.datasets import fetch_openml\n",
        "\n",
        "mnist = fetch_openml('mnist_784', as_frame=False)"
      ]
    },
    {
      "cell_type": "markdown",
      "source": [
        "How to get the description of the dataset"
      ],
      "metadata": {
        "id": "gvh8RKUuQX-1"
      }
    },
    {
      "cell_type": "code",
      "execution_count": 56,
      "metadata": {
        "id": "DIkRJiuqelqO",
        "outputId": "a689d5db-9e78-41dc-f123-6fbc072b22f2",
        "colab": {
          "base_uri": "https://localhost:8080/"
        }
      },
      "outputs": [
        {
          "output_type": "stream",
          "name": "stdout",
          "text": [
            "**Author**: Yann LeCun, Corinna Cortes, Christopher J.C. Burges  \n",
            "**Source**: [MNIST Website](http://yann.lecun.com/exdb/mnist/) - Date unknown  \n",
            "**Please cite**:  \n",
            "\n",
            "The MNIST database of handwritten digits with 784 features, raw data available at: http://yann.lecun.com/exdb/mnist/. It can be split in a training set of the first 60,000 examples, and a test set of 10,000 examples  \n",
            "\n",
            "It is a subset of a larger set available from NIST. The digits have been size-normalized and centered in a fixed-size image. It is a good database for people who want to try learning techniques and pattern recognition methods on real-world data while spending minimal efforts on preprocessing and formatting. The original black and white (bilevel) images from NIST were size normalized to fit in a 20x20 pixel box while preserving their aspect ratio. The resulting images contain grey levels as a result of the anti-aliasing technique used by the normalization algorithm. the images were centered in a 28x28 image by computing the center of mass of the pixels, and translating the image so as to position this point at the center of the 28x28 field.  \n",
            "\n",
            "With some classification methods (particularly template-based methods, such as SVM and K-nearest neighbors), the error rate improves when the digits are centered by bounding box rather than center of mass. If you do this kind of pre-processing, you should report it in your publications. The MNIST database was constructed from NIST's NIST originally designated SD-3 as their training set and SD-1 as their test set. However, SD-3 is much cleaner and easier to recognize than SD-1. The reason for this can be found on the fact that SD-3 was collected among Census Bureau employees, while SD-1 was collected among high-school students. Drawing sensible conclusions from learning experiments requires that the result be independent of the choice of training set and test among the complete set of samples. Therefore it was necessary to build a new database by mixing NIST's datasets.  \n",
            "\n",
            "The MNIST training set is composed of 30,000 patterns from SD-3 and 30,000 patterns from SD-1. Our test set was composed of 5,000 patterns from SD-3 and 5,000 patterns from SD-1. The 60,000 pattern training set contained examples from approximately 250 writers. We made sure that the sets of writers of the training set and test set were disjoint. SD-1 contains 58,527 digit images written by 500 different writers. In contrast to SD-3, where blocks of data from each writer appeared in sequence, the data in SD-1 is scrambled. Writer identities for SD-1 is available and we used this information to unscramble the writers. We then split SD-1 in two: characters written by the first 250 writers went into our new training set. The remaining 250 writers were placed in our test set. Thus we had two sets with nearly 30,000 examples each. The new training set was completed with enough examples from SD-3, starting at pattern # 0, to make a full set of 60,000 training patterns. Similarly, the new test set was completed with SD-3 examples starting at pattern # 35,000 to make a full set with 60,000 test patterns. Only a subset of 10,000 test images (5,000 from SD-1 and 5,000 from SD-3) is available on this site. The full 60,000 sample training set is available.\n",
            "\n",
            "Downloaded from openml.org.\n"
          ]
        }
      ],
      "source": [
        "print(mnist.DESCR)"
      ]
    },
    {
      "cell_type": "markdown",
      "source": [
        "How to get information about the structure of the data set"
      ],
      "metadata": {
        "id": "wf4Dz8tBQ0xY"
      }
    },
    {
      "cell_type": "code",
      "execution_count": 57,
      "metadata": {
        "id": "ye2jkooDelqP",
        "outputId": "d8a1eb9d-0595-4989-cff2-7659546d79fa",
        "colab": {
          "base_uri": "https://localhost:8080/"
        }
      },
      "outputs": [
        {
          "output_type": "execute_result",
          "data": {
            "text/plain": [
              "dict_keys(['data', 'target', 'frame', 'categories', 'feature_names', 'target_names', 'DESCR', 'details', 'url'])"
            ]
          },
          "metadata": {},
          "execution_count": 57
        }
      ],
      "source": [
        "mnist.keys()  # extra code – we only use data and target in this notebook"
      ]
    },
    {
      "cell_type": "markdown",
      "source": [
        "Assign learning data to X and labels to y"
      ],
      "metadata": {
        "id": "n-9sF0qhRH-0"
      }
    },
    {
      "cell_type": "code",
      "execution_count": 58,
      "metadata": {
        "id": "-5bcSHqCelqQ",
        "outputId": "c616aac3-94ee-47c1-918a-89b768f790c6",
        "colab": {
          "base_uri": "https://localhost:8080/"
        }
      },
      "outputs": [
        {
          "output_type": "execute_result",
          "data": {
            "text/plain": [
              "array([[0, 0, 0, ..., 0, 0, 0],\n",
              "       [0, 0, 0, ..., 0, 0, 0],\n",
              "       [0, 0, 0, ..., 0, 0, 0],\n",
              "       ...,\n",
              "       [0, 0, 0, ..., 0, 0, 0],\n",
              "       [0, 0, 0, ..., 0, 0, 0],\n",
              "       [0, 0, 0, ..., 0, 0, 0]])"
            ]
          },
          "metadata": {},
          "execution_count": 58
        }
      ],
      "source": [
        "X, y = mnist.data, mnist.target\n",
        "X"
      ]
    },
    {
      "cell_type": "markdown",
      "source": [
        "Extract information about the data"
      ],
      "metadata": {
        "id": "T2dF1kA2SFAc"
      }
    },
    {
      "cell_type": "code",
      "execution_count": 59,
      "metadata": {
        "id": "GMTtwRkrelqR",
        "outputId": "be14c57e-7b62-4ffc-9ca9-21e749fdc68e",
        "colab": {
          "base_uri": "https://localhost:8080/"
        }
      },
      "outputs": [
        {
          "output_type": "execute_result",
          "data": {
            "text/plain": [
              "(70000, 784)"
            ]
          },
          "metadata": {},
          "execution_count": 59
        }
      ],
      "source": [
        "X.shape"
      ]
    },
    {
      "cell_type": "code",
      "execution_count": 60,
      "metadata": {
        "id": "zlJyXP17elqR",
        "outputId": "49cde6ba-8c0c-4131-b3ed-d7842e0db610",
        "colab": {
          "base_uri": "https://localhost:8080/"
        }
      },
      "outputs": [
        {
          "output_type": "execute_result",
          "data": {
            "text/plain": [
              "array(['5', '0', '4', ..., '4', '5', '6'], dtype=object)"
            ]
          },
          "metadata": {},
          "execution_count": 60
        }
      ],
      "source": [
        "y"
      ]
    },
    {
      "cell_type": "code",
      "execution_count": 61,
      "metadata": {
        "id": "0zSRVVXNelqR",
        "outputId": "9c418eee-3e1d-4530-93a9-9754a5768b60",
        "colab": {
          "base_uri": "https://localhost:8080/"
        }
      },
      "outputs": [
        {
          "output_type": "execute_result",
          "data": {
            "text/plain": [
              "(70000,)"
            ]
          },
          "metadata": {},
          "execution_count": 61
        }
      ],
      "source": [
        "y.shape"
      ]
    },
    {
      "cell_type": "code",
      "execution_count": 62,
      "metadata": {
        "id": "scxLmrQselqS",
        "outputId": "e6725fb2-56fe-4482-bfc7-09121fb8ed70",
        "colab": {
          "base_uri": "https://localhost:8080/"
        }
      },
      "outputs": [
        {
          "output_type": "execute_result",
          "data": {
            "text/plain": [
              "784"
            ]
          },
          "metadata": {},
          "execution_count": 62
        }
      ],
      "source": [
        "28 * 28"
      ]
    },
    {
      "cell_type": "markdown",
      "source": [
        "Demoing the bitmap structure"
      ],
      "metadata": {
        "id": "R4tWMIi-ScGl"
      }
    },
    {
      "cell_type": "code",
      "source": [
        "import matplotlib.pyplot as plt\n",
        "\n",
        "def plot_digit(image_data):\n",
        "    image = image_data.reshape(28, 28)\n",
        "    plt.imshow(image, cmap=\"binary\")\n",
        "    plt.axis(\"off\")\n",
        "\n",
        "some_digit = X[0]\n",
        "plot_digit(some_digit)\n",
        "\n",
        "plt.show()"
      ],
      "metadata": {
        "colab": {
          "base_uri": "https://localhost:8080/",
          "height": 406
        },
        "id": "W0tgtLwEIFL3",
        "outputId": "356a108e-15d7-4e4f-921f-52888277ab0e"
      },
      "execution_count": 63,
      "outputs": [
        {
          "output_type": "display_data",
          "data": {
            "text/plain": [
              "<Figure size 640x480 with 1 Axes>"
            ],
            "image/png": "[encoded data removed]"
          },
          "metadata": {}
        }
      ]
    },
    {
      "cell_type": "code",
      "execution_count": 64,
      "metadata": {
        "id": "6HpKxtqoelqT",
        "outputId": "f4e2c2be-e50c-4529-8560-bd021387e315",
        "colab": {
          "base_uri": "https://localhost:8080/",
          "height": 35
        }
      },
      "outputs": [
        {
          "output_type": "execute_result",
          "data": {
            "text/plain": [
              "'5'"
            ],
            "application/vnd.google.colaboratory.intrinsic+json": {
              "type": "string"
            }
          },
          "metadata": {},
          "execution_count": 64
        }
      ],
      "source": [
        "y[0]"
      ]
    },
    {
      "cell_type": "markdown",
      "source": [
        "Extracting training and test sets"
      ],
      "metadata": {
        "id": "hqyxzX2JVSrM"
      }
    },
    {
      "cell_type": "code",
      "execution_count": 65,
      "metadata": {
        "id": "QKEZxtQaelqV"
      },
      "outputs": [],
      "source": [
        "#X_train, X_test, y_train, y_test = X[:60000], X[60000:], y[:60000], y[60000:]\n",
        "X_train, X_test, y_train, y_test = X[:10000], X[68000:], y[:10000], y[68000:] #For better execution time"
      ]
    },
    {
      "cell_type": "markdown",
      "metadata": {
        "id": "Vk22gdlDelqV"
      },
      "source": [
        "# Training a Binary Classifier"
      ]
    },
    {
      "cell_type": "markdown",
      "source": [
        "###Excercise(s):"
      ],
      "metadata": {
        "id": "d5YRbtwCXz55"
      }
    },
    {
      "cell_type": "markdown",
      "source": [
        "1. Evaluate the 'shapes' of 'X_train', 'X_test', 'y_train' and 'y_test' by making code cells as below."
      ],
      "metadata": {
        "id": "ts4JMv7qYDAE"
      }
    },
    {
      "cell_type": "code",
      "source": [
        "##Start with this one\n",
        "X_train.shape\n"
      ],
      "metadata": {
        "colab": {
          "base_uri": "https://localhost:8080/"
        },
        "id": "FAInzVvlVmGo",
        "outputId": "f0b027bd-bb7a-4153-ed3e-1e3f57e7301e"
      },
      "execution_count": 66,
      "outputs": [
        {
          "output_type": "execute_result",
          "data": {
            "text/plain": [
              "(10000, 784)"
            ]
          },
          "metadata": {},
          "execution_count": 66
        }
      ]
    },
    {
      "cell_type": "markdown",
      "source": [
        "2. What does that tell us?"
      ],
      "metadata": {
        "id": "ZKG8ywouZUyB"
      }
    },
    {
      "cell_type": "markdown",
      "source": [
        "###Extracting binary labels - true or false"
      ],
      "metadata": {
        "id": "nxK3SY9cZ0j1"
      }
    },
    {
      "cell_type": "code",
      "execution_count": 67,
      "metadata": {
        "id": "SD5SdsCqelqW"
      },
      "outputs": [],
      "source": [
        "y_train_5 = (y_train == '5')  # True for all 5s, False for all other digits\n",
        "y_test_5 = (y_test == '5')"
      ]
    },
    {
      "cell_type": "markdown",
      "source": [
        "###Excercise(s):"
      ],
      "metadata": {
        "id": "MX7PllW-dm5h"
      }
    },
    {
      "cell_type": "markdown",
      "source": [
        "1. Evaluate 'y_train_5' and 'y_test_5' in code cells as done below"
      ],
      "metadata": {
        "id": "k57Q7VbHd934"
      }
    },
    {
      "cell_type": "code",
      "source": [
        "y_train_5"
      ],
      "metadata": {
        "colab": {
          "base_uri": "https://localhost:8080/"
        },
        "id": "Z4ZdjeBldSAK",
        "outputId": "c6796695-4555-4e2e-ae63-281509a55aeb"
      },
      "execution_count": 68,
      "outputs": [
        {
          "output_type": "execute_result",
          "data": {
            "text/plain": [
              "array([ True, False, False, ..., False, False, False])"
            ]
          },
          "metadata": {},
          "execution_count": 68
        }
      ]
    },
    {
      "cell_type": "markdown",
      "source": [
        "2. Explain the results"
      ],
      "metadata": {
        "id": "3kVAyMkGep94"
      }
    },
    {
      "cell_type": "markdown",
      "source": [
        "#Applying a classifier\n"
      ],
      "metadata": {
        "id": "S1wVAkiVgGEL"
      }
    },
    {
      "cell_type": "markdown",
      "source": [
        " In this case a SGDClassifier and we let it learn from training data with the fit method"
      ],
      "metadata": {
        "id": "LI3XNFF0gpOd"
      }
    },
    {
      "cell_type": "code",
      "execution_count": 69,
      "metadata": {
        "id": "-xnOACY5elqW",
        "outputId": "a3f3bf93-8846-412d-9847-60db1339e916",
        "colab": {
          "base_uri": "https://localhost:8080/",
          "height": 80
        }
      },
      "outputs": [
        {
          "output_type": "execute_result",
          "data": {
            "text/plain": [
              "SGDClassifier(random_state=42)"
            ],
            "text/html": [
              "<style>#sk-container-id-2 {\n",
              "  /* Definition of color scheme common for light and dark mode */\n",
              "  --sklearn-color-text: black;\n",
              "  --sklearn-color-line: gray;\n",
              "  /* Definition of color scheme for unfitted estimators */\n",
              "  --sklearn-color-unfitted-level-0: #fff5e6;\n",
              "  --sklearn-color-unfitted-level-1: #f6e4d2;\n",
              "  --sklearn-color-unfitted-level-2: #ffe0b3;\n",
              "  --sklearn-color-unfitted-level-3: chocolate;\n",
              "  /* Definition of color scheme for fitted estimators */\n",
              "  --sklearn-color-fitted-level-0: #f0f8ff;\n",
              "  --sklearn-color-fitted-level-1: #d4ebff;\n",
              "  --sklearn-color-fitted-level-2: #b3dbfd;\n",
              "  --sklearn-color-fitted-level-3: cornflowerblue;\n",
              "\n",
              "  /* Specific color for light theme */\n",
              "  --sklearn-color-text-on-default-background: var(--sg-text-color, var(--theme-code-foreground, var(--jp-content-font-color1, black)));\n",
              "  --sklearn-color-background: var(--sg-background-color, var(--theme-background, var(--jp-layout-color0, white)));\n",
              "  --sklearn-color-border-box: var(--sg-text-color, var(--theme-code-foreground, var(--jp-content-font-color1, black)));\n",
              "  --sklearn-color-icon: #696969;\n",
              "\n",
              "  @media (prefers-color-scheme: dark) {\n",
              "    /* Redefinition of color scheme for dark theme */\n",
              "    --sklearn-color-text-on-default-background: var(--sg-text-color, var(--theme-code-foreground, var(--jp-content-font-color1, white)));\n",
              "    --sklearn-color-background: var(--sg-background-color, var(--theme-background, var(--jp-layout-color0, #111)));\n",
              "    --sklearn-color-border-box: var(--sg-text-color, var(--theme-code-foreground, var(--jp-content-font-color1, white)));\n",
              "    --sklearn-color-icon: #878787;\n",
              "  }\n",
              "}\n",
              "\n",
              "#sk-container-id-2 {\n",
              "  color: var(--sklearn-color-text);\n",
              "}\n",
              "\n",
              "#sk-container-id-2 pre {\n",
              "  padding: 0;\n",
              "}\n",
              "\n",
              "#sk-container-id-2 input.sk-hidden--visually {\n",
              "  border: 0;\n",
              "  clip: rect(1px 1px 1px 1px);\n",
              "  clip: rect(1px, 1px, 1px, 1px);\n",
              "  height: 1px;\n",
              "  margin: -1px;\n",
              "  overflow: hidden;\n",
              "  padding: 0;\n",
              "  position: absolute;\n",
              "  width: 1px;\n",
              "}\n",
              "\n",
              "#sk-container-id-2 div.sk-dashed-wrapped {\n",
              "  border: 1px dashed var(--sklearn-color-line);\n",
              "  margin: 0 0.4em 0.5em 0.4em;\n",
              "  box-sizing: border-box;\n",
              "  padding-bottom: 0.4em;\n",
              "  background-color: var(--sklearn-color-background);\n",
              "}\n",
              "\n",
              "#sk-container-id-2 div.sk-container {\n",
              "  /* jupyter's `normalize.less` sets `[hidden] { display: none; }`\n",
              "     but bootstrap.min.css set `[hidden] { display: none !important; }`\n",
              "     so we also need the `!important` here to be able to override the\n",
              "     default hidden behavior on the sphinx rendered scikit-learn.org.\n",
              "     See: https://github.com/scikit-learn/scikit-learn/issues/21755 */\n",
              "  display: inline-block !important;\n",
              "  position: relative;\n",
              "}\n",
              "\n",
              "#sk-container-id-2 div.sk-text-repr-fallback {\n",
              "  display: none;\n",
              "}\n",
              "\n",
              "div.sk-parallel-item,\n",
              "div.sk-serial,\n",
              "div.sk-item {\n",
              "  /* draw centered vertical line to link estimators */\n",
              "  background-image: linear-gradient(var(--sklearn-color-text-on-default-background), var(--sklearn-color-text-on-default-background));\n",
              "  background-size: 2px 100%;\n",
              "  background-repeat: no-repeat;\n",
              "  background-position: center center;\n",
              "}\n",
              "\n",
              "/* Parallel-specific style estimator block */\n",
              "\n",
              "#sk-container-id-2 div.sk-parallel-item::after {\n",
              "  content: \"\";\n",
              "  width: 100%;\n",
              "  border-bottom: 2px solid var(--sklearn-color-text-on-default-background);\n",
              "  flex-grow: 1;\n",
              "}\n",
              "\n",
              "#sk-container-id-2 div.sk-parallel {\n",
              "  display: flex;\n",
              "  align-items: stretch;\n",
              "  justify-content: center;\n",
              "  background-color: var(--sklearn-color-background);\n",
              "  position: relative;\n",
              "}\n",
              "\n",
              "#sk-container-id-2 div.sk-parallel-item {\n",
              "  display: flex;\n",
              "  flex-direction: column;\n",
              "}\n",
              "\n",
              "#sk-container-id-2 div.sk-parallel-item:first-child::after {\n",
              "  align-self: flex-end;\n",
              "  width: 50%;\n",
              "}\n",
              "\n",
              "#sk-container-id-2 div.sk-parallel-item:last-child::after {\n",
              "  align-self: flex-start;\n",
              "  width: 50%;\n",
              "}\n",
              "\n",
              "#sk-container-id-2 div.sk-parallel-item:only-child::after {\n",
              "  width: 0;\n",
              "}\n",
              "\n",
              "/* Serial-specific style estimator block */\n",
              "\n",
              "#sk-container-id-2 div.sk-serial {\n",
              "  display: flex;\n",
              "  flex-direction: column;\n",
              "  align-items: center;\n",
              "  background-color: var(--sklearn-color-background);\n",
              "  padding-right: 1em;\n",
              "  padding-left: 1em;\n",
              "}\n",
              "\n",
              "\n",
              "/* Toggleable style: style used for estimator/Pipeline/ColumnTransformer box that is\n",
              "clickable and can be expanded/collapsed.\n",
              "- Pipeline and ColumnTransformer use this feature and define the default style\n",
              "- Estimators will overwrite some part of the style using the `sk-estimator` class\n",
              "*/\n",
              "\n",
              "/* Pipeline and ColumnTransformer style (default) */\n",
              "\n",
              "#sk-container-id-2 div.sk-toggleable {\n",
              "  /* Default theme specific background. It is overwritten whether we have a\n",
              "  specific estimator or a Pipeline/ColumnTransformer */\n",
              "  background-color: var(--sklearn-color-background);\n",
              "}\n",
              "\n",
              "/* Toggleable label */\n",
              "#sk-container-id-2 label.sk-toggleable__label {\n",
              "  cursor: pointer;\n",
              "  display: block;\n",
              "  width: 100%;\n",
              "  margin-bottom: 0;\n",
              "  padding: 0.5em;\n",
              "  box-sizing: border-box;\n",
              "  text-align: center;\n",
              "}\n",
              "\n",
              "#sk-container-id-2 label.sk-toggleable__label-arrow:before {\n",
              "  /* Arrow on the left of the label */\n",
              "  content: \"▸\";\n",
              "  float: left;\n",
              "  margin-right: 0.25em;\n",
              "  color: var(--sklearn-color-icon);\n",
              "}\n",
              "\n",
              "#sk-container-id-2 label.sk-toggleable__label-arrow:hover:before {\n",
              "  color: var(--sklearn-color-text);\n",
              "}\n",
              "\n",
              "/* Toggleable content - dropdown */\n",
              "\n",
              "#sk-container-id-2 div.sk-toggleable__content {\n",
              "  max-height: 0;\n",
              "  max-width: 0;\n",
              "  overflow: hidden;\n",
              "  text-align: left;\n",
              "  /* unfitted */\n",
              "  background-color: var(--sklearn-color-unfitted-level-0);\n",
              "}\n",
              "\n",
              "#sk-container-id-2 div.sk-toggleable__content.fitted {\n",
              "  /* fitted */\n",
              "  background-color: var(--sklearn-color-fitted-level-0);\n",
              "}\n",
              "\n",
              "#sk-container-id-2 div.sk-toggleable__content pre {\n",
              "  margin: 0.2em;\n",
              "  border-radius: 0.25em;\n",
              "  color: var(--sklearn-color-text);\n",
              "  /* unfitted */\n",
              "  background-color: var(--sklearn-color-unfitted-level-0);\n",
              "}\n",
              "\n",
              "#sk-container-id-2 div.sk-toggleable__content.fitted pre {\n",
              "  /* unfitted */\n",
              "  background-color: var(--sklearn-color-fitted-level-0);\n",
              "}\n",
              "\n",
              "#sk-container-id-2 input.sk-toggleable__control:checked~div.sk-toggleable__content {\n",
              "  /* Expand drop-down */\n",
              "  max-height: 200px;\n",
              "  max-width: 100%;\n",
              "  overflow: auto;\n",
              "}\n",
              "\n",
              "#sk-container-id-2 input.sk-toggleable__control:checked~label.sk-toggleable__label-arrow:before {\n",
              "  content: \"▾\";\n",
              "}\n",
              "\n",
              "/* Pipeline/ColumnTransformer-specific style */\n",
              "\n",
              "#sk-container-id-2 div.sk-label input.sk-toggleable__control:checked~label.sk-toggleable__label {\n",
              "  color: var(--sklearn-color-text);\n",
              "  background-color: var(--sklearn-color-unfitted-level-2);\n",
              "}\n",
              "\n",
              "#sk-container-id-2 div.sk-label.fitted input.sk-toggleable__control:checked~label.sk-toggleable__label {\n",
              "  background-color: var(--sklearn-color-fitted-level-2);\n",
              "}\n",
              "\n",
              "/* Estimator-specific style */\n",
              "\n",
              "/* Colorize estimator box */\n",
              "#sk-container-id-2 div.sk-estimator input.sk-toggleable__control:checked~label.sk-toggleable__label {\n",
              "  /* unfitted */\n",
              "  background-color: var(--sklearn-color-unfitted-level-2);\n",
              "}\n",
              "\n",
              "#sk-container-id-2 div.sk-estimator.fitted input.sk-toggleable__control:checked~label.sk-toggleable__label {\n",
              "  /* fitted */\n",
              "  background-color: var(--sklearn-color-fitted-level-2);\n",
              "}\n",
              "\n",
              "#sk-container-id-2 div.sk-label label.sk-toggleable__label,\n",
              "#sk-container-id-2 div.sk-label label {\n",
              "  /* The background is the default theme color */\n",
              "  color: var(--sklearn-color-text-on-default-background);\n",
              "}\n",
              "\n",
              "/* On hover, darken the color of the background */\n",
              "#sk-container-id-2 div.sk-label:hover label.sk-toggleable__label {\n",
              "  color: var(--sklearn-color-text);\n",
              "  background-color: var(--sklearn-color-unfitted-level-2);\n",
              "}\n",
              "\n",
              "/* Label box, darken color on hover, fitted */\n",
              "#sk-container-id-2 div.sk-label.fitted:hover label.sk-toggleable__label.fitted {\n",
              "  color: var(--sklearn-color-text);\n",
              "  background-color: var(--sklearn-color-fitted-level-2);\n",
              "}\n",
              "\n",
              "/* Estimator label */\n",
              "\n",
              "#sk-container-id-2 div.sk-label label {\n",
              "  font-family: monospace;\n",
              "  font-weight: bold;\n",
              "  display: inline-block;\n",
              "  line-height: 1.2em;\n",
              "}\n",
              "\n",
              "#sk-container-id-2 div.sk-label-container {\n",
              "  text-align: center;\n",
              "}\n",
              "\n",
              "/* Estimator-specific */\n",
              "#sk-container-id-2 div.sk-estimator {\n",
              "  font-family: monospace;\n",
              "  border: 1px dotted var(--sklearn-color-border-box);\n",
              "  border-radius: 0.25em;\n",
              "  box-sizing: border-box;\n",
              "  margin-bottom: 0.5em;\n",
              "  /* unfitted */\n",
              "  background-color: var(--sklearn-color-unfitted-level-0);\n",
              "}\n",
              "\n",
              "#sk-container-id-2 div.sk-estimator.fitted {\n",
              "  /* fitted */\n",
              "  background-color: var(--sklearn-color-fitted-level-0);\n",
              "}\n",
              "\n",
              "/* on hover */\n",
              "#sk-container-id-2 div.sk-estimator:hover {\n",
              "  /* unfitted */\n",
              "  background-color: var(--sklearn-color-unfitted-level-2);\n",
              "}\n",
              "\n",
              "#sk-container-id-2 div.sk-estimator.fitted:hover {\n",
              "  /* fitted */\n",
              "  background-color: var(--sklearn-color-fitted-level-2);\n",
              "}\n",
              "\n",
              "/* Specification for estimator info (e.g. \"i\" and \"?\") */\n",
              "\n",
              "/* Common style for \"i\" and \"?\" */\n",
              "\n",
              ".sk-estimator-doc-link,\n",
              "a:link.sk-estimator-doc-link,\n",
              "a:visited.sk-estimator-doc-link {\n",
              "  float: right;\n",
              "  font-size: smaller;\n",
              "  line-height: 1em;\n",
              "  font-family: monospace;\n",
              "  background-color: var(--sklearn-color-background);\n",
              "  border-radius: 1em;\n",
              "  height: 1em;\n",
              "  width: 1em;\n",
              "  text-decoration: none !important;\n",
              "  margin-left: 1ex;\n",
              "  /* unfitted */\n",
              "  border: var(--sklearn-color-unfitted-level-1) 1pt solid;\n",
              "  color: var(--sklearn-color-unfitted-level-1);\n",
              "}\n",
              "\n",
              ".sk-estimator-doc-link.fitted,\n",
              "a:link.sk-estimator-doc-link.fitted,\n",
              "a:visited.sk-estimator-doc-link.fitted {\n",
              "  /* fitted */\n",
              "  border: var(--sklearn-color-fitted-level-1) 1pt solid;\n",
              "  color: var(--sklearn-color-fitted-level-1);\n",
              "}\n",
              "\n",
              "/* On hover */\n",
              "div.sk-estimator:hover .sk-estimator-doc-link:hover,\n",
              ".sk-estimator-doc-link:hover,\n",
              "div.sk-label-container:hover .sk-estimator-doc-link:hover,\n",
              ".sk-estimator-doc-link:hover {\n",
              "  /* unfitted */\n",
              "  background-color: var(--sklearn-color-unfitted-level-3);\n",
              "  color: var(--sklearn-color-background);\n",
              "  text-decoration: none;\n",
              "}\n",
              "\n",
              "div.sk-estimator.fitted:hover .sk-estimator-doc-link.fitted:hover,\n",
              ".sk-estimator-doc-link.fitted:hover,\n",
              "div.sk-label-container:hover .sk-estimator-doc-link.fitted:hover,\n",
              ".sk-estimator-doc-link.fitted:hover {\n",
              "  /* fitted */\n",
              "  background-color: var(--sklearn-color-fitted-level-3);\n",
              "  color: var(--sklearn-color-background);\n",
              "  text-decoration: none;\n",
              "}\n",
              "\n",
              "/* Span, style for the box shown on hovering the info icon */\n",
              ".sk-estimator-doc-link span {\n",
              "  display: none;\n",
              "  z-index: 9999;\n",
              "  position: relative;\n",
              "  font-weight: normal;\n",
              "  right: .2ex;\n",
              "  padding: .5ex;\n",
              "  margin: .5ex;\n",
              "  width: min-content;\n",
              "  min-width: 20ex;\n",
              "  max-width: 50ex;\n",
              "  color: var(--sklearn-color-text);\n",
              "  box-shadow: 2pt 2pt 4pt #999;\n",
              "  /* unfitted */\n",
              "  background: var(--sklearn-color-unfitted-level-0);\n",
              "  border: .5pt solid var(--sklearn-color-unfitted-level-3);\n",
              "}\n",
              "\n",
              ".sk-estimator-doc-link.fitted span {\n",
              "  /* fitted */\n",
              "  background: var(--sklearn-color-fitted-level-0);\n",
              "  border: var(--sklearn-color-fitted-level-3);\n",
              "}\n",
              "\n",
              ".sk-estimator-doc-link:hover span {\n",
              "  display: block;\n",
              "}\n",
              "\n",
              "/* \"?\"-specific style due to the `<a>` HTML tag */\n",
              "\n",
              "#sk-container-id-2 a.estimator_doc_link {\n",
              "  float: right;\n",
              "  font-size: 1rem;\n",
              "  line-height: 1em;\n",
              "  font-family: monospace;\n",
              "  background-color: var(--sklearn-color-background);\n",
              "  border-radius: 1rem;\n",
              "  height: 1rem;\n",
              "  width: 1rem;\n",
              "  text-decoration: none;\n",
              "  /* unfitted */\n",
              "  color: var(--sklearn-color-unfitted-level-1);\n",
              "  border: var(--sklearn-color-unfitted-level-1) 1pt solid;\n",
              "}\n",
              "\n",
              "#sk-container-id-2 a.estimator_doc_link.fitted {\n",
              "  /* fitted */\n",
              "  border: var(--sklearn-color-fitted-level-1) 1pt solid;\n",
              "  color: var(--sklearn-color-fitted-level-1);\n",
              "}\n",
              "\n",
              "/* On hover */\n",
              "#sk-container-id-2 a.estimator_doc_link:hover {\n",
              "  /* unfitted */\n",
              "  background-color: var(--sklearn-color-unfitted-level-3);\n",
              "  color: var(--sklearn-color-background);\n",
              "  text-decoration: none;\n",
              "}\n",
              "\n",
              "#sk-container-id-2 a.estimator_doc_link.fitted:hover {\n",
              "  /* fitted */\n",
              "  background-color: var(--sklearn-color-fitted-level-3);\n",
              "}\n",
              "</style><div id=\"sk-container-id-2\" class=\"sk-top-container\"><div class=\"sk-text-repr-fallback\"><pre>SGDClassifier(random_state=42)</pre><b>In a Jupyter environment, please rerun this cell to show the HTML representation or trust the notebook. <br />On GitHub, the HTML representation is unable to render, please try loading this page with nbviewer.org.</b></div><div class=\"sk-container\" hidden><div class=\"sk-item\"><div class=\"sk-estimator fitted sk-toggleable\"><input class=\"sk-toggleable__control sk-hidden--visually\" id=\"sk-estimator-id-2\" type=\"checkbox\" checked><label for=\"sk-estimator-id-2\" class=\"sk-toggleable__label fitted sk-toggleable__label-arrow fitted\">&nbsp;&nbsp;SGDClassifier<a class=\"sk-estimator-doc-link fitted\" rel=\"noreferrer\" target=\"_blank\" href=\"https://scikit-learn.org/1.5/modules/generated/sklearn.linear_model.SGDClassifier.html\">?<span>Documentation for SGDClassifier</span></a><span class=\"sk-estimator-doc-link fitted\">i<span>Fitted</span></span></label><div class=\"sk-toggleable__content fitted\"><pre>SGDClassifier(random_state=42)</pre></div> </div></div></div></div>"
            ]
          },
          "metadata": {},
          "execution_count": 69
        }
      ],
      "source": [
        "from sklearn.linear_model import SGDClassifier\n",
        "\n",
        "sgd_clf = SGDClassifier(random_state=42)\n",
        "sgd_clf.fit(X_train, y_train_5)"
      ]
    },
    {
      "cell_type": "markdown",
      "source": [
        "Let it predict 'some_digit' in this case a '5'"
      ],
      "metadata": {
        "id": "wkH2lZYhhwLQ"
      }
    },
    {
      "cell_type": "code",
      "execution_count": 70,
      "metadata": {
        "id": "5tNU-D3gelqX",
        "outputId": "17ca8aad-244f-4b67-f6e3-45e057574784",
        "colab": {
          "base_uri": "https://localhost:8080/"
        }
      },
      "outputs": [
        {
          "output_type": "execute_result",
          "data": {
            "text/plain": [
              "array([ True])"
            ]
          },
          "metadata": {},
          "execution_count": 70
        }
      ],
      "source": [
        "sgd_clf.predict([some_digit])"
      ]
    },
    {
      "cell_type": "markdown",
      "metadata": {
        "id": "N69hHFz9elqX"
      },
      "source": [
        "# Performance Measures"
      ]
    },
    {
      "cell_type": "markdown",
      "metadata": {
        "id": "Elc4f9poelqa"
      },
      "source": [
        "## Confusion Matrix"
      ]
    },
    {
      "cell_type": "markdown",
      "source": [
        "Establish the confusion matrix for the training data"
      ],
      "metadata": {
        "id": "e5hoNS8xOTdA"
      }
    },
    {
      "cell_type": "code",
      "source": [
        "y_train_pred = sgd_clf.predict(X_train)"
      ],
      "metadata": {
        "id": "PBk4AFGhjQ71"
      },
      "execution_count": 71,
      "outputs": []
    },
    {
      "cell_type": "code",
      "execution_count": 72,
      "metadata": {
        "id": "Rvc3qsjyelqb",
        "outputId": "630a67ce-5a4a-4d5c-d6fa-304e666119e2",
        "colab": {
          "base_uri": "https://localhost:8080/"
        }
      },
      "outputs": [
        {
          "output_type": "execute_result",
          "data": {
            "text/plain": [
              "array([[8846,  291],\n",
              "       [  46,  817]])"
            ]
          },
          "metadata": {},
          "execution_count": 72
        }
      ],
      "source": [
        "from sklearn.metrics import confusion_matrix\n",
        "\n",
        "cm = confusion_matrix(y_train_5, y_train_pred)\n",
        "cm"
      ]
    },
    {
      "cell_type": "code",
      "source": [
        "from sklearn.metrics import ConfusionMatrixDisplay\n",
        "\n",
        "plt.rc('font', size=9)  # extra code – make the text smaller\n",
        "ConfusionMatrixDisplay.from_predictions(y_train_5, y_train_pred)\n",
        "plt.show()"
      ],
      "metadata": {
        "colab": {
          "base_uri": "https://localhost:8080/",
          "height": 454
        },
        "id": "cdthbokeLCfe",
        "outputId": "e8188f1a-b536-447c-e31d-598f8752e0ff"
      },
      "execution_count": 73,
      "outputs": [
        {
          "output_type": "display_data",
          "data": {
            "text/plain": [
              "<Figure size 640x480 with 2 Axes>"
            ],
            "image/png": "[encoded data removed]"
          },
          "metadata": {}
        }
      ]
    },
    {
      "cell_type": "markdown",
      "source": [
        "###Excercise(s)"
      ],
      "metadata": {
        "id": "msOM4TW6Ovp9"
      }
    },
    {
      "cell_type": "markdown",
      "source": [
        "1. Establish the confusion matrix on the **test set** in some code cells below"
      ],
      "metadata": {
        "id": "2WPz5-WKDjzc"
      }
    },
    {
      "cell_type": "code",
      "source": [
        "##Start with this\n",
        "y_test_pred = sgd_clf.predict(X_test)"
      ],
      "metadata": {
        "id": "U5eefF-sDy9g"
      },
      "execution_count": 74,
      "outputs": []
    },
    {
      "cell_type": "markdown",
      "source": [
        "Establish the confusion matrix with perfect predictions"
      ],
      "metadata": {
        "id": "5_0p42fTCv1X"
      }
    },
    {
      "cell_type": "code",
      "execution_count": 75,
      "metadata": {
        "id": "w2agoGuselqb",
        "outputId": "881c2d38-a025-4c2c-ad30-aaf2a31c83d1",
        "colab": {
          "base_uri": "https://localhost:8080/"
        }
      },
      "outputs": [
        {
          "output_type": "execute_result",
          "data": {
            "text/plain": [
              "array([[9137,    0],\n",
              "       [   0,  863]])"
            ]
          },
          "metadata": {},
          "execution_count": 75
        }
      ],
      "source": [
        "y_train_perfect_predictions = y_train_5  # pretend we reached perfection\n",
        "confusion_matrix(y_train_5, y_train_perfect_predictions)"
      ]
    },
    {
      "cell_type": "code",
      "source": [],
      "metadata": {
        "id": "jbxn9r22Es_n"
      },
      "execution_count": 75,
      "outputs": []
    },
    {
      "cell_type": "code",
      "source": [
        "from sklearn.metrics import ConfusionMatrixDisplay\n",
        "plt.rc('font', size=9)  # extra code – make the text smaller\n",
        "ConfusionMatrixDisplay.from_predictions(y_train_5, y_train_perfect_predictions)\n",
        "plt.show()"
      ],
      "metadata": {
        "id": "0CA8aCy6Kxzb",
        "colab": {
          "base_uri": "https://localhost:8080/",
          "height": 454
        },
        "outputId": "8ec2eebb-798c-4232-cef3-ac70a74a411c"
      },
      "execution_count": 76,
      "outputs": [
        {
          "output_type": "display_data",
          "data": {
            "text/plain": [
              "<Figure size 640x480 with 2 Axes>"
            ],
            "image/png": "[encoded data removed]"
          },
          "metadata": {}
        }
      ]
    },
    {
      "cell_type": "markdown",
      "metadata": {
        "id": "wMlRkxQCelqc"
      },
      "source": [
        "## Accuracy, Precision and Recall"
      ]
    },
    {
      "cell_type": "code",
      "execution_count": 77,
      "metadata": {
        "id": "I1wxevnGelqc"
      },
      "outputs": [],
      "source": [
        "from sklearn.metrics import accuracy_score, precision_score, recall_score\n",
        "\n"
      ]
    },
    {
      "cell_type": "markdown",
      "source": [
        "Evaluate accuracy"
      ],
      "metadata": {
        "id": "OOBNtJqUQ1iH"
      }
    },
    {
      "cell_type": "code",
      "source": [
        "accuracy_score(y_train_5, y_train_pred) ## (TP+TN)/(TP+FP+TN+FN)"
      ],
      "metadata": {
        "colab": {
          "base_uri": "https://localhost:8080/"
        },
        "id": "f0fAokfXGW_m",
        "outputId": "667f1ca1-d25e-4879-9658-d98833a0822c"
      },
      "execution_count": 78,
      "outputs": [
        {
          "output_type": "execute_result",
          "data": {
            "text/plain": [
              "0.9663"
            ]
          },
          "metadata": {},
          "execution_count": 78
        }
      ]
    },
    {
      "cell_type": "markdown",
      "source": [
        "Evaluate precission"
      ],
      "metadata": {
        "id": "1KQTLg7-Q62x"
      }
    },
    {
      "cell_type": "code",
      "source": [
        "precision_score(y_train_5, y_train_pred)"
      ],
      "metadata": {
        "colab": {
          "base_uri": "https://localhost:8080/"
        },
        "id": "iUS_uRUMGESc",
        "outputId": "e43470ff-9252-420d-c37f-b2c018bb59ac"
      },
      "execution_count": 79,
      "outputs": [
        {
          "output_type": "execute_result",
          "data": {
            "text/plain": [
              "0.7373646209386282"
            ]
          },
          "metadata": {},
          "execution_count": 79
        }
      ]
    },
    {
      "cell_type": "markdown",
      "source": [
        "Evaluate recall"
      ],
      "metadata": {
        "id": "MZW9HnAzRBNK"
      }
    },
    {
      "cell_type": "code",
      "execution_count": 80,
      "metadata": {
        "id": "1I-3-Bcxelqd",
        "outputId": "5ba17e01-01c0-4c92-90ff-a9697389dfc6",
        "colab": {
          "base_uri": "https://localhost:8080/"
        }
      },
      "outputs": [
        {
          "output_type": "execute_result",
          "data": {
            "text/plain": [
              "0.9466975666280417"
            ]
          },
          "metadata": {},
          "execution_count": 80
        }
      ],
      "source": [
        "recall_score(y_train_5, y_train_pred)"
      ]
    },
    {
      "cell_type": "markdown",
      "source": [
        "###Excercises"
      ],
      "metadata": {
        "id": "yaNX8PpiIBWJ"
      }
    },
    {
      "cell_type": "markdown",
      "source": [
        "1. Explain the 3 scores accuracy, precision and recall in the current context"
      ],
      "metadata": {
        "id": "hI0FuNjSJYv1"
      }
    },
    {
      "cell_type": "code",
      "source": [
        "# prompt: Explain the 3 scores accuracy, precision and recall in the current context\n",
        "\n",
        "# Accuracy:\n",
        "#  - It represents the overall correctness of the model's predictions.\n",
        "#  - In this context, it tells us what proportion of the predictions (whether a digit is a 5 or not) were correct.\n",
        "#  - It is calculated as (True Positives + True Negatives) / Total Predictions.\n",
        "\n",
        "\n",
        "# Precision:\n",
        "#  - It focuses on the reliability of positive predictions.\n",
        "#  - In this context, it tells us, out of all the predictions that were classified as 5, how many were actually 5.\n",
        "#  - It is calculated as True Positives / (True Positives + False Positives).\n",
        "\n",
        "\n",
        "# Recall:\n",
        "#  - It focuses on the model's ability to find all positive instances.\n",
        "#  - In this context, it tells us, out of all the actual 5s in the dataset, how many did the model correctly identify as 5.\n",
        "#  - It is calculated as True Positives / (True Positives + False Negatives).\n",
        "\n",
        "# In essence:\n",
        "#  - **Accuracy** is a general measure of correctness.\n",
        "#  - **Precision** is about how trustworthy the positive predictions are.\n",
        "#  - **Recall** is about how many of the actual positive cases the model successfully identifies.\n"
      ],
      "metadata": {
        "id": "kBy87KV30yEB"
      },
      "execution_count": 81,
      "outputs": []
    },
    {
      "cell_type": "markdown",
      "source": [
        "2. Establish evaluation of these scores for our **test data set** in code cells below"
      ],
      "metadata": {
        "id": "2cliEozKIsnd"
      }
    },
    {
      "cell_type": "code",
      "source": [
        "# prompt: Establish evaluation of these scores for our test data set in code cells below\n",
        "\n",
        "# Evaluate accuracy for the test set\n",
        "accuracy_score(y_test_5, y_test_pred)\n",
        "\n",
        "# Evaluate precision for the test set\n",
        "precision_score(y_test_5, y_test_pred)\n",
        "\n",
        "# Evaluate recall for the test set\n",
        "recall_score(y_test_5, y_test_pred)\n"
      ],
      "metadata": {
        "id": "006oE_iu023N",
        "outputId": "5c79da80-94c2-4e84-bf1e-127af418ebc8",
        "colab": {
          "base_uri": "https://localhost:8080/"
        }
      },
      "execution_count": 82,
      "outputs": [
        {
          "output_type": "execute_result",
          "data": {
            "text/plain": [
              "0.9230769230769231"
            ]
          },
          "metadata": {},
          "execution_count": 82
        }
      ]
    },
    {
      "cell_type": "markdown",
      "source": [
        "3. Does our digit recognition solution perform better or worse on test data compared to training data?"
      ],
      "metadata": {
        "id": "ZGCTQD8oJqX0"
      }
    },
    {
      "cell_type": "code",
      "source": [
        "# prompt: Does our digit recognition solution perform better or worse on test data compared to training data?\n",
        "\n",
        "print(\"Accuracy on training data:\", accuracy_score(y_train_5, y_train_pred))\n",
        "print(\"Accuracy on test data:\", accuracy_score(y_test_5, y_test_pred))\n",
        "print(\"Precision on training data:\", precision_score(y_train_5, y_train_pred))\n",
        "print(\"Precision on test data:\", precision_score(y_test_5, y_test_pred))\n",
        "print(\"Recall on training data:\", recall_score(y_train_5, y_train_pred))\n",
        "print(\"Recall on test data:\", recall_score(y_test_5, y_test_pred))\n"
      ],
      "metadata": {
        "id": "oKuzEdqP1Eao",
        "outputId": "c7ba631e-c05d-49e8-df0e-2a2d4a189597",
        "colab": {
          "base_uri": "https://localhost:8080/"
        }
      },
      "execution_count": 83,
      "outputs": [
        {
          "output_type": "stream",
          "name": "stdout",
          "text": [
            "Accuracy on training data: 0.9663\n",
            "Accuracy on test data: 0.96\n",
            "Precision on training data: 0.7373646209386282\n",
            "Precision on test data: 0.6995515695067265\n",
            "Recall on training data: 0.9466975666280417\n",
            "Recall on test data: 0.9230769230769231\n"
          ]
        }
      ]
    },
    {
      "cell_type": "markdown",
      "source": [
        "4. What does that mean?"
      ],
      "metadata": {
        "id": "jHWBuI4NKJlH"
      }
    },
    {
      "cell_type": "code",
      "source": [
        "# prompt: What does that mean?\n",
        "\n",
        "# The model's performance on the test data is generally slightly worse than its performance on the training data,\n",
        "# particularly in terms of accuracy, precision, and recall. This is a common phenomenon in machine learning known as overfitting.\n",
        "\n",
        "# Overfitting occurs when a model learns the training data too well, including its noise and specific patterns that might not generalize well to new, unseen data.\n",
        "# As a result, the model performs very well on the training set but struggles to make accurate predictions on the test set.\n",
        "\n",
        "# In this specific case, it means that while the model has learned to classify digits as 5s reasonably well on the training data,\n",
        "# it might be less accurate when dealing with new, previously unseen handwritten digits.\n",
        "\n",
        "# It is important to aim for models that generalize well to new data, as this is the ultimate goal of machine learning.\n",
        "# Techniques like regularization and using a validation set can help to mitigate overfitting and improve the generalization ability of the model.\n"
      ],
      "metadata": {
        "id": "dQoEhkYI1Jru"
      },
      "execution_count": 84,
      "outputs": []
    },
    {
      "cell_type": "markdown",
      "source": [
        "###Questions"
      ],
      "metadata": {
        "id": "hHt_Ewa6LaB_"
      }
    },
    {
      "cell_type": "markdown",
      "source": [
        "1. What is a binary classifier?\n",
        "    "
      ],
      "metadata": {
        "id": "1D1F1z5wLtxo"
      }
    },
    {
      "cell_type": "code",
      "source": [
        "# prompt: What is a binary classifier?\n",
        "\n",
        "# A binary classifier is a type of machine learning model that is designed to categorize data into one of two possible classes or categories.\n",
        "# In simpler terms, it makes a decision about whether an input belongs to one class or the other.\n",
        "\n",
        "# For example, in the MNIST dataset example, we used a binary classifier to distinguish whether a handwritten digit was a \"5\" or not (a different digit).\n",
        "# Other examples of binary classification tasks include:\n",
        "#   - Spam detection (spam or not spam)\n",
        "#   - Medical diagnosis (disease present or not present)\n",
        "#   - Credit risk assessment (high risk or low risk)\n"
      ],
      "metadata": {
        "id": "DtX0xr9o1PEl"
      },
      "execution_count": 85,
      "outputs": []
    },
    {
      "cell_type": "markdown",
      "source": [
        "2. Why is the data set split into training and test sets?\n",
        "    "
      ],
      "metadata": {
        "id": "_3TXSh5GL10k"
      }
    },
    {
      "cell_type": "code",
      "source": [
        "# prompt: Why is the data set split into training and test sets?\n",
        "\n",
        "# The dataset is split into training and test sets to evaluate the performance of a machine learning model in a realistic setting.\n",
        "\n",
        "# Training Set:\n",
        "#   - Used to train the model, allowing it to learn patterns and relationships within the data.\n",
        "#   - The model adjusts its internal parameters based on the training data to improve its ability to make accurate predictions.\n",
        "\n",
        "# Test Set:\n",
        "#   - Used to assess how well the trained model generalizes to unseen data.\n",
        "#   - It provides an unbiased estimate of the model's performance on new, real-world data.\n",
        "\n",
        "# If we only used the training data for evaluation, the model might appear to perform very well, even if it has actually overfitted to the training data.\n",
        "# Overfitting occurs when the model learns the training data too well, including its noise and specific patterns that might not generalize well to new data.\n",
        "# As a result, it performs well on the training set but poorly on unseen data.\n",
        "\n",
        "# By using a separate test set, we can determine whether the model can accurately predict outcomes for data it hasn't seen before.\n",
        "# This is a crucial step in ensuring that the model is robust and reliable in its ability to make accurate predictions in real-world scenarios.\n",
        "\n",
        "# In essence, the split into training and test sets is a fundamental practice in machine learning to prevent overfitting and provide a fair assessment of the model's generalization capability.\n"
      ],
      "metadata": {
        "id": "4NuB48Pd1TTl"
      },
      "execution_count": 86,
      "outputs": []
    },
    {
      "cell_type": "markdown",
      "source": [
        "3. What is a confusion matrix?\n",
        "    "
      ],
      "metadata": {
        "id": "g6kRThKPL6bR"
      }
    },
    {
      "cell_type": "code",
      "source": [
        "# prompt: What is a confusion matrix?\n",
        "\n",
        "# A confusion matrix is a table that is often used to describe the performance of a classification model (or \"classifier\") on a set of test data for which the true values are known.\n",
        "# It allows you to visualize the performance of the model by showing the counts of true positive, true negative, false positive, and false negative predictions.\n",
        "\n",
        "\n",
        "# Here's a breakdown of the components:\n",
        "\n",
        "\n",
        "# True Positive (TP): The model correctly predicted the positive class (e.g., correctly identified a 5).\n",
        "# True Negative (TN): The model correctly predicted the negative class (e.g., correctly identified a non-5).\n",
        "# False Positive (FP): The model incorrectly predicted the positive class when the true class was negative (e.g., incorrectly identified a non-5 as a 5).\n",
        "# False Negative (FN): The model incorrectly predicted the negative class when the true class was positive (e.g., incorrectly identified a 5 as a non-5).\n",
        "\n",
        "\n",
        "# The confusion matrix helps you understand:\n",
        "\n",
        "\n",
        "# Accuracy: How often the model makes correct predictions overall.\n",
        "# Precision: How many of the positive predictions made by the model were actually correct.\n",
        "# Recall (Sensitivity): How many of the actual positive instances did the model correctly identify.\n",
        "# Specificity: How many of the actual negative instances did the model correctly identify.\n",
        "# By analyzing these metrics, you can gain insights into the strengths and weaknesses of your classification model and identify areas for improvement.\n",
        "\n",
        "\n",
        "# In the MNIST example, we used a confusion matrix to evaluate the performance of our binary classifier (digit 5 or not digit 5).\n",
        "# It allowed us to see how many instances were correctly classified as 5s, how many were correctly classified as non-5s, and how many were misclassified.\n"
      ],
      "metadata": {
        "id": "0RzHrG2-1XJH"
      },
      "execution_count": 87,
      "outputs": []
    },
    {
      "cell_type": "markdown",
      "source": [
        "4. Explain the values (TP, TN, FP, FN) in your confusion matrix?"
      ],
      "metadata": {
        "id": "ZRhPk-FyL-RB"
      }
    },
    {
      "cell_type": "code",
      "source": [
        "# prompt: Explain the values (TP, TN, FP, FN) in your confusion matrix?\n",
        "\n",
        "# In our confusion matrix, the values represent the following:\n",
        "\n",
        "# True Positive (TP): The model correctly predicted that a digit was a 5, and it was actually a 5.\n",
        "# True Negative (TN): The model correctly predicted that a digit was not a 5, and it was actually not a 5.\n",
        "# False Positive (FP): The model predicted that a digit was a 5, but it was actually not a 5. This is also known as a Type I error.\n",
        "# False Negative (FN): The model predicted that a digit was not a 5, but it was actually a 5. This is also known as a Type II error.\n",
        "\n",
        "# To extract the values from the confusion matrix, you can use the following code:\n",
        "\n",
        "\n",
        "# tn, fp, fn, tp = cm.ravel()\n",
        "\n",
        "# print(\"True Positive (TP):\", tp)\n",
        "# print(\"True Negative (TN):\", tn)\n",
        "# print(\"False Positive (FP):\", fp)\n",
        "# print(\"False Negative (FN):\", fn)\n",
        "\n",
        "# By examining the values in the confusion matrix, you can gain insights into the performance of the classifier in terms of correctly and incorrectly classifying the different digits.\n"
      ],
      "metadata": {
        "id": "fkWCu8zH2NEw"
      },
      "execution_count": 88,
      "outputs": []
    }
  ],
  "metadata": {
    "kernelspec": {
      "display_name": "Python 3",
      "language": "python",
      "name": "python3"
    },
    "language_info": {
      "codemirror_mode": {
        "name": "ipython",
        "version": 3
      },
      "file_extension": ".py",
      "mimetype": "text/x-python",
      "name": "python",
      "nbconvert_exporter": "python",
      "pygments_lexer": "ipython3",
      "version": "3.10.6"
    },
    "nav_menu": {},
    "toc": {
      "navigate_menu": true,
      "number_sections": true,
      "sideBar": true,
      "threshold": 6,
      "toc_cell": false,
      "toc_section_display": "block",
      "toc_window_display": false
    },
    "colab": {
      "provenance": [],
      "include_colab_link": true
    }
  },
  "nbformat": 4,
  "nbformat_minor": 0
}